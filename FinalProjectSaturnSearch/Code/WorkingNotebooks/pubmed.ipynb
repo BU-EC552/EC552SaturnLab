{
 "cells": [
  {
   "cell_type": "code",
   "execution_count": 30,
   "id": "4e004e48",
   "metadata": {},
   "outputs": [
    {
     "data": {
      "text/plain": [
       "['5533824', '5625736', '7235315', '6208999', '7445758', '6609449', '6360377', '4244866', '7445784', '7445764', '6340809', '6463249', '7054743', '6936930', '7160928', '7981545', '7289019', '6716251', '4349129', '6070313']"
      ]
     },
     "execution_count": 30,
     "metadata": {},
     "output_type": "execute_result"
    }
   ],
   "source": [
    "# this is a test notebook file\n",
    "# this is an example query program\n",
    "from Bio import Entrez\n",
    "import json\n",
    "\n",
    "def search(query):\n",
    "    Entrez.email = 'clp0216@bu.edu'\n",
    "    handle = Entrez.esearch(db='pmc',\n",
    "                            sort='relevance',\n",
    "                            retmax='20',\n",
    "                            retmode='xml',\n",
    "                            term=query)\n",
    "    results = Entrez.read(handle)\n",
    "    return results\n",
    "\n",
    "def fetch_details(id_list):\n",
    "    ids = ','.join(id_list)\n",
    "    Entrez.email = 'your.email@example.com'\n",
    "    handle = Entrez.efetch(db='pubmed',\n",
    "                           retmode='xml',\n",
    "                           id=ids)\n",
    "    results = Entrez.read(handle)\n",
    "    return results\n",
    "\n",
    "if __name__ == '__main__':\n",
    "    results = search('synthetic biology')\n",
    "    id_list = results['IdList']\n",
    "    # papers = fetch_details(id_list)\n",
    "    # for i, paper in enumerate(papers['PubmedArticle']):\n",
    "    #      print(\"{}) {}\".format(i+1, paper['MedlineCitation']['Article']['ArticleTitle']))\n",
    "\n",
    "# Pretty print the first paper in full to observe its structure\n",
    "id_list"
   ]
  },
  {
   "cell_type": "code",
   "execution_count": 2,
   "id": "7b60e815",
   "metadata": {},
   "outputs": [
    {
     "data": {
      "text/plain": [
       "['7712799', '3792348', '6629627', '7102963', '7395757', '6393786', '7894499', '5794059', '6355035', '5164986', '3732497', '6694294', '4033672', '6843473', '6822565', '5003692', '6177443', '7775772', '5216270', '3982732']"
      ]
     },
     "execution_count": 2,
     "metadata": {},
     "output_type": "execute_result"
    }
   ],
   "source": [
    "results['IdList']"
   ]
  },
  {
   "cell_type": "code",
   "execution_count": 31,
   "id": "bc9965ee",
   "metadata": {
    "tags": []
   },
   "outputs": [
    {
     "data": {
      "text/plain": [
       "str"
      ]
     },
     "execution_count": 31,
     "metadata": {},
     "output_type": "execute_result"
    }
   ],
   "source": [
    "import json\n",
    "import xmltodict\n",
    "import requests\n",
    "payload = {'db':'pmc', 'id':id_list}\n",
    "# response = requests.get(\"https://eutils.ncbi.nlm.nih.gov/entrez/eutils/efetch.fcgi?db=pmc&id=4304705\")\n",
    "response = requests.get(\"https://eutils.ncbi.nlm.nih.gov/entrez/eutils/efetch.fcgi\", params=payload)\n",
    "type(response.text)"
   ]
  },
  {
   "cell_type": "code",
   "execution_count": 3,
   "id": "3711e50d",
   "metadata": {},
   "outputs": [],
   "source": [
    "with open('my_return.xml', 'w') as f:\n",
    "    f.write(response.text)\n",
    "f.close()"
   ]
  },
  {
   "cell_type": "code",
   "execution_count": 4,
   "id": "480400d7",
   "metadata": {},
   "outputs": [],
   "source": [
    "with open(\"my_return.xml\") as xml_file:\n",
    "    data_dict = xmltodict.parse(xml_file.read())\n",
    "xml_file.close()"
   ]
  },
  {
   "cell_type": "code",
   "execution_count": 5,
   "id": "9a96ebc5",
   "metadata": {},
   "outputs": [],
   "source": [
    "json_data = json.dumps(data_dict)\n",
    "with open(\"my_return.json\", \"w\") as json_file:\n",
    "    json_file.write(json_data)\n",
    "json_file.close()"
   ]
  },
  {
   "cell_type": "code",
   "execution_count": 6,
   "id": "83299f01",
   "metadata": {},
   "outputs": [],
   "source": [
    "with open('my_return.json') as json_file:\n",
    "    data = json.load(json_file)\n"
   ]
  },
  {
   "cell_type": "code",
   "execution_count": 24,
   "id": "a3c5f308",
   "metadata": {
    "tags": []
   },
   "outputs": [
    {
     "data": {
      "text/plain": [
       "requests.models.Response"
      ]
     },
     "execution_count": 24,
     "metadata": {},
     "output_type": "execute_result"
    }
   ],
   "source": [
    "type(response)"
   ]
  },
  {
   "cell_type": "code",
   "execution_count": 16,
   "id": "ff2857de",
   "metadata": {},
   "outputs": [
    {
     "data": {
      "text/plain": [
       "str"
      ]
     },
     "execution_count": 16,
     "metadata": {},
     "output_type": "execute_result"
    }
   ],
   "source": [
    "type(response.text)"
   ]
  },
  {
   "cell_type": "code",
   "execution_count": 32,
   "id": "a9e890dd",
   "metadata": {},
   "outputs": [],
   "source": [
    "import xml.etree.ElementTree as ET\n",
    "import xmltodict\n",
    "from json_flatten import flatten\n",
    "    \n",
    "string_xml = response.text\n",
    "tree = ET.fromstring(string_xml)\n",
    "xml_str = ET.tostring(tree, method='xml')\n",
    "data = xmltodict.parse(xml_str)\n"
   ]
  },
  {
   "cell_type": "code",
   "execution_count": 51,
   "id": "c523f1de",
   "metadata": {},
   "outputs": [
    {
     "ename": "KeyError",
     "evalue": "'body'",
     "output_type": "error",
     "traceback": [
      "\u001b[0;31m---------------------------------------------------------------------------\u001b[0m",
      "\u001b[0;31mKeyError\u001b[0m                                  Traceback (most recent call last)",
      "\u001b[0;32m<ipython-input-51-a16687033901>\u001b[0m in \u001b[0;36m<module>\u001b[0;34m\u001b[0m\n\u001b[0;32m----> 1\u001b[0;31m \u001b[0;32mif\u001b[0m \u001b[0;34m(\u001b[0m\u001b[0mdata\u001b[0m\u001b[0;34m[\u001b[0m\u001b[0;34m'pmc-articleset'\u001b[0m\u001b[0;34m]\u001b[0m\u001b[0;34m[\u001b[0m\u001b[0;34m'article'\u001b[0m\u001b[0;34m]\u001b[0m\u001b[0;34m[\u001b[0m\u001b[0;36m0\u001b[0m\u001b[0;34m]\u001b[0m\u001b[0;34m[\u001b[0m\u001b[0;34m'body'\u001b[0m\u001b[0;34m]\u001b[0m\u001b[0;34m)\u001b[0m\u001b[0;34m:\u001b[0m\u001b[0;34m\u001b[0m\u001b[0;34m\u001b[0m\u001b[0m\n\u001b[0m\u001b[1;32m      2\u001b[0m     \u001b[0mprint\u001b[0m\u001b[0;34m(\u001b[0m\u001b[0;34m\"body\"\u001b[0m\u001b[0;34m)\u001b[0m\u001b[0;34m\u001b[0m\u001b[0;34m\u001b[0m\u001b[0m\n",
      "\u001b[0;31mKeyError\u001b[0m: 'body'"
     ]
    }
   ],
   "source": [
    "if (data['pmc-articleset']['article'][0]['body']):\n",
    "    print(\"body\")"
   ]
  },
  {
   "cell_type": "code",
   "execution_count": 42,
   "id": "86bd8bcb",
   "metadata": {},
   "outputs": [],
   "source": [
    "# list(filter(lambda x:, data['pmc-articleset']['article']['body']['sec'][2]['sec'][1]))\n",
    "# https://towardsdatascience.com/how-to-flatten-deeply-nested-json-objects-in-non-recursive-elegant-python-55f96533103d\n",
    "from collections import MutableMapping\n",
    "import numpy as np\n",
    "from json_flatten import flatten\n",
    "import os, glob\n",
    "for filename in glob.glob(os.getcwd() + \"/text_result_*\"):\n",
    "    os.remove(filename) \n",
    "\n",
    "# code to convert ini_dict to flattened dictionary\n",
    "for i, article in enumerate(data['pmc-articleset']['article']):\n",
    "    try:\n",
    "        flat_data = flatten(article['body'])\n",
    "        # apply filter for any value over 10 characters in length\n",
    "        text_res = dict((key, flat_data[key]) for key in flat_data.keys() if (len(flat_data[key]) > 30) and ('{' not in flat_data[key]))\n",
    "        concat_text = \" \".join(list(text_res.values())) + \".\"\n",
    "        concat_text = concat_text.replace(\"[]\", \"\").replace(\"[,]\", \"\")\n",
    "        with open('text_result' + '_' + str(i) + '.txt', 'w') as text_result:\n",
    "            text_result.write(concat_text)\n",
    "        text_result.close()\n",
    "    except:\n",
    "        pass\n",
    "  "
   ]
  },
  {
   "cell_type": "code",
   "execution_count": 49,
   "id": "47d93d44",
   "metadata": {},
   "outputs": [],
   "source": [
    "kwds = data['pmc-articleset']['article'][5]['front']['article-meta']['kwd-group']['kwd']"
   ]
  },
  {
   "cell_type": "code",
   "execution_count": 94,
   "id": "022015ce",
   "metadata": {},
   "outputs": [
    {
     "name": "stdout",
     "output_type": "stream",
     "text": [
      "['biological synthesis (assembly)', 'biological synthesis (chemical reaction)', 'biomimetic (assembly)']\n"
     ]
    }
   ],
   "source": [
    "print(kwds)"
   ]
  },
  {
   "cell_type": "code",
   "execution_count": 91,
   "id": "004f689d",
   "metadata": {},
   "outputs": [],
   "source": [
    "titles = data['pmc-articleset']['article'][5]['front']['article-meta']['article-id'][]"
   ]
  },
  {
   "cell_type": "code",
   "execution_count": 93,
   "id": "21dee503",
   "metadata": {},
   "outputs": [
    {
     "name": "stdout",
     "output_type": "stream",
     "text": [
      "[OrderedDict([('@pub-id-type', 'pmid'), ('#text', '31281737')]), OrderedDict([('@pub-id-type', 'pmc'), ('#text', '6609449')]), OrderedDict([('@pub-id-type', 'doi'), ('#text', '10.1557/mrc.2019.35')]), OrderedDict([('@pub-id-type', 'manuscript'), ('#text', 'EMS82898')])]\n"
     ]
    }
   ],
   "source": [
    "print(titles)"
   ]
  },
  {
   "cell_type": "code",
   "execution_count": 32,
   "id": "acdab62c",
   "metadata": {},
   "outputs": [],
   "source": [
    "# with open(\"flat_data.txt\", 'w') as txtfile:\n",
    "#     txtfile.write(str(flat_data))\n",
    "# txtfile.close()\n"
   ]
  },
  {
   "cell_type": "code",
   "execution_count": 33,
   "id": "a8fcf8ee",
   "metadata": {},
   "outputs": [],
   "source": [
    "# concat_text = str(text_res.values())u\n",
    "# with open('text_result.txt', 'w') as text_result:\n",
    "#     text_result.write(concat_text)\n",
    "# text_result.close()"
   ]
  },
  {
   "cell_type": "code",
   "execution_count": 37,
   "id": "43056603",
   "metadata": {},
   "outputs": [
    {
     "data": {
      "text/plain": [
       "{'Count': '2', 'RetMax': '2', 'RetStart': '0', 'IdList': ['3468381', '2682512'], 'TranslationSet': [], 'TranslationStack': [{'Term': 'biopython[title]', 'Field': 'title', 'Count': '2', 'Explode': 'N'}, 'GROUP'], 'QueryTranslation': 'biopython[title]'}"
      ]
     },
     "execution_count": 37,
     "metadata": {},
     "output_type": "execute_result"
    }
   ],
   "source": [
    "record\n"
   ]
  },
  {
   "cell_type": "code",
   "execution_count": 53,
   "id": "5636f22e",
   "metadata": {},
   "outputs": [],
   "source": [
    "search_query = 'medline[sb] AND \"open access\"[filter] AND '\n",
    "\n",
    "# getting search results for the query\n",
    "search_results = Entrez.read(Entrez.esearch(db=\"pmc\", term=search_query, retmax=1, usehistory=\"y\"))\n",
    "handle = Entrez.efetch(db=\"pmc\", rettype=\"full\", retmode=\"txt\", retstart=0, retmax=int(search_results[\"Count\"]), webenv=search_results[\"WebEnv\"], query_key=search_results[\"QueryKey\"])"
   ]
  },
  {
   "cell_type": "code",
   "execution_count": 54,
   "id": "473f7b2e",
   "metadata": {},
   "outputs": [],
   "source": [
    "data = handle.read()\n"
   ]
  }
 ],
 "metadata": {
  "kernelspec": {
   "display_name": "Python 3",
   "language": "python",
   "name": "python3"
  },
  "language_info": {
   "codemirror_mode": {
    "name": "ipython",
    "version": 3
   },
   "file_extension": ".py",
   "mimetype": "text/x-python",
   "name": "python",
   "nbconvert_exporter": "python",
   "pygments_lexer": "ipython3",
   "version": "3.8.8"
  }
 },
 "nbformat": 4,
 "nbformat_minor": 5
}
