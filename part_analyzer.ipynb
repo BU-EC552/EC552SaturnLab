{
 "cells": [
  {
   "cell_type": "code",
   "execution_count": 7,
   "id": "a45eadbb",
   "metadata": {},
   "outputs": [],
   "source": [
    "# this is a test script for a watson-integrated parts miner\n",
    "# \n",
    "import json\n",
    "from ibm_watson import NaturalLanguageUnderstandingV1\n",
    "from ibm_cloud_sdk_core.authenticators import IAMAuthenticator\n",
    "from ibm_watson.natural_language_understanding_v1 import Features, EntitiesOptions, ConceptsOptions\n",
    "\n",
    "authenticator = IAMAuthenticator('icmDJw0O-dSqYOoEcKwt-8j3uDsp22ULVfVFN_3fczSr')\n",
    "natural_language_understanding = NaturalLanguageUnderstandingV1(\n",
    "    version='2020-08-01',\n",
    "    authenticator=authenticator\n",
    ")\n",
    "\n",
    "natural_language_understanding.set_service_url('https://api.us-east.natural-language-understanding.watson.cloud.ibm.com/instances/b5ab2432-7e17-407e-a70a-2f10076a5ae4')\n",
    "\n",
    "\n",
    "\n",
    "\n"
   ]
  },
  {
   "cell_type": "code",
   "execution_count": 5,
   "metadata": {},
   "outputs": [
    {
     "output_type": "error",
     "ename": "NameError",
     "evalue": "name 'filtered_corpus' is not defined",
     "traceback": [
      "\u001b[0;31m---------------------------------------------------------------------------\u001b[0m",
      "\u001b[0;31mNameError\u001b[0m                                 Traceback (most recent call last)",
      "\u001b[0;32m<ipython-input-5-8f56d9276104>\u001b[0m in \u001b[0;36m<module>\u001b[0;34m\u001b[0m\n\u001b[0;32m----> 1\u001b[0;31m \u001b[0mlen\u001b[0m\u001b[0;34m(\u001b[0m\u001b[0mfiltered_corpus\u001b[0m\u001b[0;34m)\u001b[0m\u001b[0;34m\u001b[0m\u001b[0;34m\u001b[0m\u001b[0m\n\u001b[0m",
      "\u001b[0;31mNameError\u001b[0m: name 'filtered_corpus' is not defined"
     ]
    }
   ],
   "source": []
  },
  {
   "cell_type": "code",
   "execution_count": 35,
   "metadata": {},
   "outputs": [],
   "source": [
    "# read in practice corpus\n",
    "import os\n",
    "import os.path\n",
    "practice_corpus = []\n",
    "os.chdir('/Users/cullenpaulisick/Documents/EC552/Project/EC552SaturnLab/LDACorpus')\n",
    "for filename in os.listdir(os.getcwd()):\n",
    "    with open(os.path.join(os.getcwd(), filename), 'r', encoding='ISO-8859-1') as f:\n",
    "        practice_corpus.append(f.read())\n",
    "    f.close()\n",
    "    "
   ]
  },
  {
   "cell_type": "code",
   "execution_count": 36,
   "metadata": {},
   "outputs": [],
   "source": [
    "\n",
    "docs = list(practice_corpus)\n",
    "# Tokenize the documents.\n",
    "from nltk.tokenize import RegexpTokenizer\n",
    "from nltk.corpus import stopwords\n",
    "stop_words = stopwords.words('english') + ['fig', 'supplementary']\n",
    "# Split the documents into tokens.\n",
    "tokenizer = RegexpTokenizer(r'\\w+')\n",
    "for idx in range(len(docs)):\n",
    "    docs[idx] = docs[idx].lower()  # Convert to lowercase.\n",
    "    docs[idx] = tokenizer.tokenize(docs[idx])  # Split into words.\n",
    "# Remove numbers, but not words that contain numbers.\n",
    "docs = [[token for token in doc if not token.isnumeric()] for doc in docs]\n",
    "# Remove words that are only one character.\n",
    "docs = [[token for token in doc if len(token) > 2] for doc in docs]\n",
    "# Remove stop words\n",
    "docs = [[token for token in doc if token not in stop_words] for doc in docs]\n",
    "# Lemmatize the documents.\n",
    "from nltk.stem.wordnet import WordNetLemmatizer\n",
    "\n",
    "lemmatizer = WordNetLemmatizer()\n",
    "docs = [[lemmatizer.lemmatize(token) for token in doc] for doc in docs]\n",
    "filtered_corpus = [\" \".join(doc) for doc in docs]"
   ]
  },
  {
   "cell_type": "code",
   "execution_count": 12,
   "metadata": {},
   "outputs": [],
   "source": [
    "lemma_dir = '/Users/cullenpaulisick/Documents/EC552/Project/EC552SaturnLab/WorkingCorpus/LemmaCorpus'\n",
    "os.chdir(lemma_dir)"
   ]
  },
  {
   "cell_type": "code",
   "execution_count": 37,
   "metadata": {},
   "outputs": [],
   "source": [
    "for i, text in enumerate(filtered_corpus[:50]):\n",
    "    if len(text) >= 40000:\n",
    "        filtered_corpus[i] = text[:39998]"
   ]
  },
  {
   "cell_type": "code",
   "execution_count": 39,
   "metadata": {
    "tags": []
   },
   "outputs": [
    {
     "output_type": "stream",
     "name": "stdout",
     "text": [
      "{\n",
      "  \"usage\": {\n",
      "    \"text_units\": 2,\n",
      "    \"text_characters\": 18418,\n",
      "    \"features\": 1\n",
      "  },\n",
      "  \"language\": \"en\",\n",
      "  \"entities\": [\n",
      "    {\n",
      "      \"type\": \"Part\",\n",
      "      \"text\": \"eyfp\",\n",
      "      \"disambiguation\": {\n",
      "        \"subtype\": [\n",
      "          \"Protein\"\n",
      "        ]\n",
      "      },\n",
      "      \"count\": 1,\n",
      "      \"confidence\": 0.913608\n",
      "    },\n",
      "    {\n",
      "      \"type\": \"Part\",\n",
      "      \"text\": \"sfgfp\",\n",
      "      \"disambiguation\": {\n",
      "        \"subtype\": [\n",
      "          \"Protein\"\n",
      "        ]\n",
      "      },\n",
      "      \"count\": 1,\n",
      "      \"confidence\": 0.802126\n",
      "    },\n",
      "    {\n",
      "      \"type\": \"Part\",\n",
      "      \"text\": \"afb2\",\n",
      "      \"disambiguation\": {\n",
      "        \"subtype\": [\n",
      "          \"Gene\"\n",
      "        ]\n",
      "      },\n",
      "      \"count\": 1,\n",
      "      \"confidence\": 0.75608\n",
      "    },\n",
      "    {\n",
      "      \"type\": \"Part\",\n",
      "      \"text\": \"afb\",\n",
      "      \"disambiguation\": {\n",
      "        \"subtype\": [\n",
      "          \"Gene\"\n",
      "        ]\n",
      "      },\n",
      "      \"count\": 1,\n",
      "      \"confidence\": 0.664737\n",
      "    },\n",
      "    {\n",
      "      \"type\": \"Method\",\n",
      "      \"text\": \"turbidostats\",\n",
      "      \"disambiguation\": {\n",
      "        \"subtype\": [\n",
      "          \"NONE\"\n",
      "        ]\n",
      "      },\n",
      "      \"count\": 1,\n",
      "      \"confidence\": 0.660933\n",
      "    },\n",
      "    {\n",
      "      \"type\": \"Method\",\n",
      "      \"text\": \"culture\",\n",
      "      \"disambiguation\": {\n",
      "        \"subtype\": [\n",
      "          \"NONE\"\n",
      "        ]\n",
      "      },\n",
      "      \"count\": 1,\n",
      "      \"confidence\": 0.597268\n",
      "    },\n",
      "    {\n",
      "      \"type\": \"Method\",\n",
      "      \"text\": \"turbidostat\",\n",
      "      \"disambiguation\": {\n",
      "        \"subtype\": [\n",
      "          \"NONE\"\n",
      "        ]\n",
      "      },\n",
      "      \"count\": 1,\n",
      "      \"confidence\": 0.591734\n",
      "    },\n",
      "    {\n",
      "      \"type\": \"Part\",\n",
      "      \"text\": \"eyfp\",\n",
      "      \"disambiguation\": {\n",
      "        \"subtype\": [\n",
      "          \"Protein\"\n",
      "        ]\n",
      "      },\n",
      "      \"count\": 1,\n",
      "      \"confidence\": 0.556713\n",
      "    },\n",
      "    {\n",
      "      \"type\": \"Part\",\n",
      "      \"text\": \"eyfp\",\n",
      "      \"disambiguation\": {\n",
      "        \"subtype\": [\n",
      "          \"Protein\"\n",
      "        ]\n",
      "      },\n",
      "      \"count\": 1,\n",
      "      \"confidence\": 0.516062\n",
      "    },\n",
      "    {\n",
      "      \"type\": \"Part\",\n",
      "      \"text\": \"eyfp\",\n",
      "      \"disambiguation\": {\n",
      "        \"subtype\": [\n",
      "          \"Protein\"\n",
      "        ]\n",
      "      },\n",
      "      \"count\": 1,\n",
      "      \"confidence\": 0.511094\n",
      "    }\n",
      "  ]\n",
      "}\n",
      "{\n",
      "  \"usage\": {\n",
      "    \"text_units\": 4,\n",
      "    \"text_characters\": 31531,\n",
      "    \"features\": 1\n",
      "  },\n",
      "  \"language\": \"en\",\n",
      "  \"entities\": [\n",
      "    {\n",
      "      \"type\": \"Part\",\n",
      "      \"text\": \"ifp1\",\n",
      "      \"disambiguation\": {\n",
      "        \"subtype\": [\n",
      "          \"Gene\"\n",
      "        ]\n",
      "      },\n",
      "      \"count\": 1,\n",
      "      \"confidence\": 0.972359\n",
      "    },\n",
      "    {\n",
      "      \"type\": \"Part\",\n",
      "      \"text\": \"ifp1\",\n",
      "      \"disambiguation\": {\n",
      "        \"subtype\": [\n",
      "          \"Gene\"\n",
      "        ]\n",
      "      },\n",
      "      \"count\": 1,\n",
      "      \"confidence\": 0.968187\n",
      "    },\n",
      "    {\n",
      "      \"type\": \"Part\",\n",
      "      \"text\": \"pdb\",\n",
      "      \"disambiguation\": {\n",
      "        \"subtype\": [\n",
      "          \"NONE\"\n",
      "        ]\n",
      "      },\n",
      "      \"count\": 1,\n",
      "      \"confidence\": 0.963387\n",
      "    },\n",
      "    {\n",
      "      \"type\": \"Part\",\n",
      "      \"text\": \"pgex2tk\",\n",
      "      \"disambiguation\": {\n",
      "        \"subtype\": [\n",
      "          \"Promoter\"\n",
      "        ]\n",
      "      },\n",
      "      \"count\": 1,\n",
      "      \"confidence\": 0.956383\n",
      "    },\n",
      "    {\n",
      "      \"type\": \"Part\",\n",
      "      \"text\": \"1ztu\",\n",
      "      \"disambiguation\": {\n",
      "        \"subtype\": [\n",
      "          \"NONE\"\n",
      "        ]\n",
      "      },\n",
      "      \"count\": 1,\n",
      "      \"confidence\": 0.955911\n",
      "    },\n",
      "    {\n",
      "      \"type\": \"Part\",\n",
      "      \"text\": \"pgex2tk\",\n",
      "      \"disambiguation\": {\n",
      "        \"subtype\": [\n",
      "          \"Promoter\"\n",
      "        ]\n",
      "      },\n",
      "      \"count\": 1,\n",
      "      \"confidence\": 0.954264\n",
      "    },\n",
      "    {\n",
      "      \"type\": \"Part\",\n",
      "      \"text\": \"ifp1\",\n",
      "      \"disambiguation\": {\n",
      "        \"subtype\": [\n",
      "          \"Gene\"\n",
      "        ]\n",
      "      },\n",
      "      \"count\": 1,\n",
      "      \"confidence\": 0.941114\n",
      "    },\n",
      "    {\n",
      "      \"type\": \"Part\",\n",
      "      \"text\": \"pgex2tk\",\n",
      "      \"disambiguation\": {\n",
      "        \"subtype\": [\n",
      "          \"Promoter\"\n",
      "        ]\n",
      "      },\n",
      "      \"count\": 1,\n",
      "      \"confidence\": 0.900977\n",
      "    },\n",
      "    {\n",
      "      \"type\": \"Part\",\n",
      "      \"text\": \"ifp\",\n",
      "      \"disambiguation\": {\n",
      "        \"subtype\": [\n",
      "          \"NONE\"\n",
      "        ]\n",
      "      },\n",
      "      \"count\": 1,\n",
      "      \"confidence\": 0.867678\n",
      "    },\n",
      "    {\n",
      "      \"type\": \"Part\",\n",
      "      \"text\": \"bphp\",\n",
      "      \"disambiguation\": {\n",
      "        \"subtype\": [\n",
      "          \"NONE\"\n",
      "        ]\n",
      "      },\n",
      "      \"count\": 1,\n",
      "      \"confidence\": 0.865658\n",
      "    }\n",
      "  ]\n",
      "}\n"
     ]
    }
   ],
   "source": [
    "for textfile in filtered_corpus[:2]:\n",
    "    response = natural_language_understanding.analyze(\n",
    "        text=textfile,\n",
    "        features=Features(entities=EntitiesOptions(limit=10, model='116b1006-b509-463c-b13e-a57f7a6749f3'))\n",
    "        ).get_result()\n",
    "\n"
   ]
  },
  {
   "cell_type": "code",
   "execution_count": 47,
   "metadata": {},
   "outputs": [
    {
     "output_type": "execute_result",
     "data": {
      "text/plain": [
       "['1ztu', 'bphp', 'ifp', 'ifp1', 'pdb', 'pgex2tk']"
      ]
     },
     "metadata": {},
     "execution_count": 47
    }
   ],
   "source": [
    "from json_flatten import flatten\n",
    "import numpy as np\n",
    "flat_response =flatten(response['entities'])\n",
    "parts_list = [value for key, value in flat_response.items() if 'text' in key.lower()]\n",
    "list(np.unique(parts_list))\n"
   ]
  },
  {
   "cell_type": "code",
   "execution_count": 63,
   "metadata": {},
   "outputs": [
    {
     "output_type": "execute_result",
     "data": {
      "text/plain": [
       "[{'type': 'Part',\n",
       "  'text': 'ifp1',\n",
       "  'disambiguation': {'subtype': ['Gene']},\n",
       "  'count': 1,\n",
       "  'confidence': 0.972359},\n",
       " {'type': 'Part',\n",
       "  'text': 'ifp1',\n",
       "  'disambiguation': {'subtype': ['Gene']},\n",
       "  'count': 1,\n",
       "  'confidence': 0.968187},\n",
       " {'type': 'Part',\n",
       "  'text': 'pdb',\n",
       "  'disambiguation': {'subtype': ['NONE']},\n",
       "  'count': 1,\n",
       "  'confidence': 0.963387},\n",
       " {'type': 'Part',\n",
       "  'text': 'pgex2tk',\n",
       "  'disambiguation': {'subtype': ['Promoter']},\n",
       "  'count': 1,\n",
       "  'confidence': 0.956383},\n",
       " {'type': 'Part',\n",
       "  'text': '1ztu',\n",
       "  'disambiguation': {'subtype': ['NONE']},\n",
       "  'count': 1,\n",
       "  'confidence': 0.955911},\n",
       " {'type': 'Part',\n",
       "  'text': 'pgex2tk',\n",
       "  'disambiguation': {'subtype': ['Promoter']},\n",
       "  'count': 1,\n",
       "  'confidence': 0.954264},\n",
       " {'type': 'Part',\n",
       "  'text': 'ifp1',\n",
       "  'disambiguation': {'subtype': ['Gene']},\n",
       "  'count': 1,\n",
       "  'confidence': 0.941114},\n",
       " {'type': 'Part',\n",
       "  'text': 'pgex2tk',\n",
       "  'disambiguation': {'subtype': ['Promoter']},\n",
       "  'count': 1,\n",
       "  'confidence': 0.900977},\n",
       " {'type': 'Part',\n",
       "  'text': 'ifp',\n",
       "  'disambiguation': {'subtype': ['NONE']},\n",
       "  'count': 1,\n",
       "  'confidence': 0.867678},\n",
       " {'type': 'Part',\n",
       "  'text': 'bphp',\n",
       "  'disambiguation': {'subtype': ['NONE']},\n",
       "  'count': 1,\n",
       "  'confidence': 0.865658}]"
      ]
     },
     "metadata": {},
     "execution_count": 63
    }
   ],
   "source": [
    "response['entities']"
   ]
  },
  {
   "cell_type": "code",
   "execution_count": 61,
   "metadata": {},
   "outputs": [],
   "source": [
    "parts_list = []\n",
    "gene_list = []\n",
    "sequence_list = []\n",
    "for item in response['entities']:\n",
    "    if item['type'].lower() == 'part':\n",
    "        if item['text'] not in parts_list:\n",
    "            parts_list.append(item['text'])\n",
    "            if item['disambiguation']['subtype'][0].lower() != 'none' and item['disambiguation']['subtype'][0].lower() != 'sequence' :\n",
    "                gene_list.append(item['text'])\n",
    "            if item['disambiguation']['subtype'][0].lower() == 'sequence':\n",
    "                sequence_list.append(item['text'])\n",
    "        \n"
   ]
  },
  {
   "cell_type": "code",
   "execution_count": 62,
   "metadata": {},
   "outputs": [
    {
     "output_type": "execute_result",
     "data": {
      "text/plain": [
       "['ifp1', 'pgex2tk']"
      ]
     },
     "metadata": {},
     "execution_count": 62
    }
   ],
   "source": [
    "gene_list"
   ]
  },
  {
   "cell_type": "code",
   "execution_count": 67,
   "metadata": {},
   "outputs": [],
   "source": [
    "\n",
    "from Bio import Entrez\n",
    "results_dict = {}\n",
    "for gene in gene_list:\n",
    "    Entrez.email = 'clp0216@bu.edu'\n",
    "    handle = Entrez.esearch(db='nucleotide',\n",
    "                            sort='relevance',\n",
    "                            retmax='810',\n",
    "                            retmode='xml',\n",
    "                            term=gene+\"[gene]\", \n",
    "                            idtype='acc')\n",
    "    results_dict[gene] = Entrez.read(handle)\n",
    "\n",
    "\n"
   ]
  },
  {
   "cell_type": "code",
   "execution_count": 72,
   "metadata": {},
   "outputs": [
    {
     "output_type": "execute_result",
     "data": {
      "text/plain": [
       "['568815587', '145275182', '51477686', '1677538733', '1677530040', '223461610', '187950470', '162317755', '11022691', '11022689', '11022687']"
      ]
     },
     "metadata": {},
     "execution_count": 72
    }
   ],
   "source": [
    "results_dict['ifp1']['IdList']"
   ]
  },
  {
   "cell_type": "code",
   "execution_count": 92,
   "metadata": {
    "tags": []
   },
   "outputs": [],
   "source": [
    "handle_set = []\n",
    "for acc_num in results_dict['ifp1']['IdList'][:3]:\n",
    "    fetch_handle = Entrez.efetch(db=\"nucleotide\", id=acc_num, rettype=\"gb\", retmode=\"text\")\n",
    "    data = fetch_handle.read()\n",
    "    handle_set.append(data)"
   ]
  },
  {
   "cell_type": "code",
   "execution_count": 94,
   "metadata": {},
   "outputs": [
    {
     "output_type": "execute_result",
     "data": {
      "text/plain": [
       "'LOCUS       NC_000011          135086622 bp    DNA     linear   CON 01-MAR-2021\\nDEFINITION  Homo sapiens chromosome 11, GRCh38.p13 Primary Assembly.\\nACCESSION   NC_000011\\nVERSION     NC_000011.10\\nDBLINK      BioProject: PRJNA168\\n            Assembly: GCF_000001405.39\\nKEYWORDS    RefSeq.\\nSOURCE      Homo sapiens (human)\\n  ORGANISM  Homo sapiens\\n            Eukaryota; Metazoa; Chordata; Craniata; Vertebrata; Euteleostomi;\\n            Mammalia; Eutheria; Euarchontoglires; Primates; Haplorrhini;\\n            Catarrhini; Hominidae; Homo.\\nREFERENCE   1  (bases 1 to 135086622)\\n  AUTHORS   Taylor,T.D., Noguchi,H., Totoki,Y., Toyoda,A., Kuroki,Y., Dewar,K.,\\n            Lloyd,C., Itoh,T., Takeda,T., Kim,D.W., She,X., Barlow,K.F.,\\n            Bloom,T., Bruford,E., Chang,J.L., Cuomo,C.A., Eichler,E.,\\n            FitzGerald,M.G., Jaffe,D.B., LaButti,K., Nicol,R., Park,H.S.,\\n            Seaman,C., Sougnez,C., Yang,X., Zimmer,A.R., Zody,M.C.,\\n            Birren,B.W., Nusbaum,C., Fujiyama,A., Hattori,M., Rogers,J.,\\n            Lander,E.S. and Sakaki,Y.\\n  TITLE     Human chromosome 11 DNA sequence and analysis including novel gene\\n            identification\\n  JOURNAL   Nature 440 (7083), 497-500 (2006)\\n   PUBMED   16554811\\nREFERENCE   2  (bases 1 to 135086622)\\n  CONSRTM   International Human Genome Sequencing Consortium\\n  TITLE     Finishing the euchromatic sequence of the human genome\\n  JOURNAL   Nature 431 (7011), 931-945 (2004)\\n   PUBMED   15496913\\nREFERENCE   3  (bases 1 to 135086622)\\n  AUTHORS   Lander,E.S., Linton,L.M., Birren,B., Nusbaum,C., Zody,M.C.,\\n            Baldwin,J., Devon,K., Dewar,K., Doyle,M., FitzHugh,W., Funke,R.,\\n            Gage,D., Harris,K., Heaford,A., Howland,J., Kann,L., Lehoczky,J.,\\n            LeVine,R., McEwan,P., McKernan,K., Meldrim,J., Mesirov,J.P.,\\n            Miranda,C., Morris,W., Naylor,J., Raymond,C., Rosetti,M.,\\n            Santos,R., Sheridan,A., Sougnez,C., Stange-Thomann,N.,\\n            Stojanovic,N., Subramanian,A., Wyman,D., Rogers,J., Sulston,J.,\\n            Ainscough,R., Beck,S., Bentley,D., Burton,J., Clee,C., Carter,N.,\\n            Coulson,A., Deadman,R., Deloukas,P., Dunham,A., Dunham,I.,\\n            Durbin,R., French,L., Grafham,D., Gregory,S., Hubbard,T.,\\n            Humphray,S., Hunt,A., Jones,M., Lloyd,C., McMurray,A., Matthews,L.,\\n            Mercer,S., Milne,S., Mullikin,J.C., Mungall,A., Plumb,R., Ross,M.,\\n            Shownkeen,R., Sims,S., Waterston,R.H., Wilson,R.K., Hillier,L.W.,\\n            McPherson,J.D., Marra,M.A., Mardis,E.R., Fulton,L.A.,\\n            Chinwalla,A.T., Pepin,K.H., Gish,W.R., Chissoe,S.L., Wendl,M.C.,\\n            Delehaunty,K.D., Miner,T.L., Delehaunty,A., Kramer,J.B., Cook,L.L.,\\n            Fulton,R.S., Johnson,D.L., Minx,P.J., Clifton,S.W., Hawkins,T.,\\n            Branscomb,E., Predki,P., Richardson,P., Wenning,S., Slezak,T.,\\n            Doggett,N., Cheng,J.F., Olsen,A., Lucas,S., Elkin,C.,\\n            Uberbacher,E., Frazier,M., Gibbs,R.A., Muzny,D.M., Scherer,S.E.,\\n            Bouck,J.B., Sodergren,E.J., Worley,K.C., Rives,C.M., Gorrell,J.H.,\\n            Metzker,M.L., Naylor,S.L., Kucherlapati,R.S., Nelson,D.L.,\\n            Weinstock,G.M., Sakaki,Y., Fujiyama,A., Hattori,M., Yada,T.,\\n            Toyoda,A., Itoh,T., Kawagoe,C., Watanabe,H., Totoki,Y., Taylor,T.,\\n            Weissenbach,J., Heilig,R., Saurin,W., Artiguenave,F., Brottier,P.,\\n            Bruls,T., Pelletier,E., Robert,C., Wincker,P., Smith,D.R.,\\n            Doucette-Stamm,L., Rubenfield,M., Weinstock,K., Lee,H.M.,\\n            Dubois,J., Rosenthal,A., Platzer,M., Nyakatura,G., Taudien,S.,\\n            Rump,A., Yang,H., Yu,J., Wang,J., Huang,G., Gu,J., Hood,L.,\\n            Rowen,L., Madan,A., Qin,S., Davis,R.W., Federspiel,N.A.,\\n            Abola,A.P., Proctor,M.J., Myers,R.M., Schmutz,J., Dickson,M.,\\n            Grimwood,J., Cox,D.R., Olson,M.V., Kaul,R., Raymond,C., Shimizu,N.,\\n            Kawasaki,K., Minoshima,S., Evans,G.A., Athanasiou,M., Schultz,R.,\\n            Roe,B.A., Chen,F., Pan,H., Ramser,J., Lehrach,H., Reinhardt,R.,\\n            McCombie,W.R., de la Bastide,M., Dedhia,N., Blocker,H.,\\n            Hornischer,K., Nordsiek,G., Agarwala,R., Aravind,L., Bailey,J.A.,\\n            Bateman,A., Batzoglou,S., Birney,E., Bork,P., Brown,D.G.,\\n            Burge,C.B., Cerutti,L., Chen,H.C., Church,D., Clamp,M.,\\n            Copley,R.R., Doerks,T., Eddy,S.R., Eichler,E.E., Furey,T.S.,\\n            Galagan,J., Gilbert,J.G., Harmon,C., Hayashizaki,Y., Haussler,D.,\\n            Hermjakob,H., Hokamp,K., Jang,W., Johnson,L.S., Jones,T.A.,\\n            Kasif,S., Kaspryzk,A., Kennedy,S., Kent,W.J., Kitts,P.,\\n            Koonin,E.V., Korf,I., Kulp,D., Lancet,D., Lowe,T.M., McLysaght,A.,\\n            Mikkelsen,T., Moran,J.V., Mulder,N., Pollara,V.J., Ponting,C.P.,\\n            Schuler,G., Schultz,J., Slater,G., Smit,A.F., Stupka,E.,\\n            Szustakowski,J., Thierry-Mieg,D., Thierry-Mieg,J., Wagner,L.,\\n            Wallis,J., Wheeler,R., Williams,A., Wolf,Y.I., Wolfe,K.H.,\\n            Yang,S.P., Yeh,R.F., Collins,F., Guyer,M.S., Peterson,J.,\\n            Felsenfeld,A., Wetterstrand,K.A., Patrinos,A., Morgan,M.J., de\\n            Jong,P., Catanese,J.J., Osoegawa,K., Shizuya,H., Choi,S. and\\n            Chen,Y.J.\\n  CONSRTM   International Human Genome Sequencing Consortium\\n  TITLE     Initial sequencing and analysis of the human genome\\n  JOURNAL   Nature 409 (6822), 860-921 (2001)\\n   PUBMED   11237011\\n  REMARK    Erratum:[Nature 2001 Aug 2;412(6846):565]\\nCOMMENT     REFSEQ INFORMATION: The reference sequence is identical to\\n            CM000673.2.\\n            On Feb 3, 2014 this sequence version replaced NC_000011.9.\\n            Assembly Name: GRCh38.p13 Primary Assembly\\n            The DNA sequence is composed of genomic sequence, primarily\\n            finished clones that were sequenced as part of the Human Genome\\n            Project. PCR products and WGS shotgun sequence have been added\\n            where necessary to fill gaps or correct errors. All such additions\\n            are manually curated by GRC staff. For more information see:\\n            https://genomereference.org.\\n            \\n            ##Genome-Annotation-Data-START##\\n            Annotation Provider         :: NCBI\\n            Annotation Status           :: Updated annotation\\n            Annotation Name             :: Homo sapiens Updated Annotation\\n                                           Release 109.20210226\\n            Annotation Version          :: 109.20210226\\n            Annotation Pipeline         :: NCBI eukaryotic genome annotation\\n                                           pipeline\\n            Annotation Software Version :: 8.6\\n            Annotation Method           :: Best-placed RefSeq; propagated\\n                                           RefSeq model\\n            Features Annotated          :: Gene; mRNA; CDS; ncRNA\\n            ##Genome-Annotation-Data-END##\\nFEATURES             Location/Qualifiers\\n     source          1..135086622\\n                     /organism=\"Homo sapiens\"\\n                     /mol_type=\"genomic DNA\"\\n                     /db_xref=\"taxon:9606\"\\n                     /chromosome=\"11\"\\nCONTIG      join(gap(10000),gap(50000),NT_009237.19:1..50761348,gap(50000),\\n            gap(207000),NT_187219.1:1..11969,gap(100),NT_187220.1:1..3251982,\\n            gap(100),NT_187221.1:1..82575,gap(100000),NT_167190.2:1..33453128,\\n            gap(24694),NT_033899.9:1..47073726,gap(10000))\\n//\\n\\n'"
      ]
     },
     "metadata": {},
     "execution_count": 94
    }
   ],
   "source": [
    "handle_set[0]"
   ]
  },
  {
   "cell_type": "code",
   "execution_count": null,
   "metadata": {},
   "outputs": [],
   "source": []
  }
 ],
 "metadata": {
  "kernelspec": {
   "name": "python3",
   "display_name": "Python 3.8.8 64-bit ('EC552Proj': conda)",
   "metadata": {
    "interpreter": {
     "hash": "69869beadf32d8499e4cf71b9973518647042b0f5cab7f34319854baa9d1be91"
    }
   }
  },
  "language_info": {
   "codemirror_mode": {
    "name": "ipython",
    "version": 3
   },
   "file_extension": ".py",
   "mimetype": "text/x-python",
   "name": "python",
   "nbconvert_exporter": "python",
   "pygments_lexer": "ipython3",
   "version": "3.8.8"
  }
 },
 "nbformat": 4,
 "nbformat_minor": 5
}